{
 "cells": [
  {
   "cell_type": "code",
   "execution_count": 26,
   "id": "cf0accbb-3027-4b3f-9218-1400e7d08489",
   "metadata": {},
   "outputs": [],
   "source": [
    "import pandas as pd\n",
    "import numpy as np\n",
    "import matplotlib.pyplot as plt"
   ]
  },
  {
   "cell_type": "code",
   "execution_count": 4,
   "id": "c3b98a75-9d23-4d51-b262-537990d899e4",
   "metadata": {},
   "outputs": [],
   "source": [
    "data = pd.read_csv(r'C:\\Users\\Akhil\\Downloads\\2020-SENATE-precinct-general.csv')"
   ]
  },
  {
   "cell_type": "code",
   "execution_count": 5,
   "id": "f9f45b28-771a-4abe-9349-a10287f734d2",
   "metadata": {},
   "outputs": [
    {
     "data": {
      "text/plain": [
       "(759380, 25)"
      ]
     },
     "execution_count": 5,
     "metadata": {},
     "output_type": "execute_result"
    }
   ],
   "source": [
    "data.shape"
   ]
  },
  {
   "cell_type": "code",
   "execution_count": 8,
   "id": "8f28d9db-6ab9-4e3b-9464-f7e6bf1daa64",
   "metadata": {},
   "outputs": [
    {
     "data": {
      "text/html": [
       "<div>\n",
       "<style scoped>\n",
       "    .dataframe tbody tr th:only-of-type {\n",
       "        vertical-align: middle;\n",
       "    }\n",
       "\n",
       "    .dataframe tbody tr th {\n",
       "        vertical-align: top;\n",
       "    }\n",
       "\n",
       "    .dataframe thead th {\n",
       "        text-align: right;\n",
       "    }\n",
       "</style>\n",
       "<table border=\"1\" class=\"dataframe\">\n",
       "  <thead>\n",
       "    <tr style=\"text-align: right;\">\n",
       "      <th></th>\n",
       "      <th>precinct</th>\n",
       "      <th>office</th>\n",
       "      <th>party_detailed</th>\n",
       "      <th>party_simplified</th>\n",
       "      <th>mode</th>\n",
       "      <th>votes</th>\n",
       "      <th>county_name</th>\n",
       "      <th>county_fips</th>\n",
       "      <th>jurisdiction_name</th>\n",
       "      <th>jurisdiction_fips</th>\n",
       "      <th>...</th>\n",
       "      <th>stage</th>\n",
       "      <th>state</th>\n",
       "      <th>special</th>\n",
       "      <th>writein</th>\n",
       "      <th>state_po</th>\n",
       "      <th>state_fips</th>\n",
       "      <th>state_cen</th>\n",
       "      <th>state_ic</th>\n",
       "      <th>date</th>\n",
       "      <th>readme_check</th>\n",
       "    </tr>\n",
       "  </thead>\n",
       "  <tbody>\n",
       "    <tr>\n",
       "      <th>0</th>\n",
       "      <td>10 JONES COMM_ CTR_</td>\n",
       "      <td>US SENATE</td>\n",
       "      <td>NaN</td>\n",
       "      <td>NaN</td>\n",
       "      <td>TOTAL</td>\n",
       "      <td>0</td>\n",
       "      <td>AUTAUGA</td>\n",
       "      <td>1001.0</td>\n",
       "      <td>AUTAUGA</td>\n",
       "      <td>1001.0</td>\n",
       "      <td>...</td>\n",
       "      <td>GEN</td>\n",
       "      <td>ALABAMA</td>\n",
       "      <td>False</td>\n",
       "      <td>False</td>\n",
       "      <td>AL</td>\n",
       "      <td>1</td>\n",
       "      <td>63</td>\n",
       "      <td>41</td>\n",
       "      <td>2020-11-03</td>\n",
       "      <td>False</td>\n",
       "    </tr>\n",
       "    <tr>\n",
       "      <th>1</th>\n",
       "      <td>10 JONES COMM_ CTR_</td>\n",
       "      <td>US SENATE</td>\n",
       "      <td>NaN</td>\n",
       "      <td>NaN</td>\n",
       "      <td>TOTAL</td>\n",
       "      <td>1</td>\n",
       "      <td>AUTAUGA</td>\n",
       "      <td>1001.0</td>\n",
       "      <td>AUTAUGA</td>\n",
       "      <td>1001.0</td>\n",
       "      <td>...</td>\n",
       "      <td>GEN</td>\n",
       "      <td>ALABAMA</td>\n",
       "      <td>False</td>\n",
       "      <td>False</td>\n",
       "      <td>AL</td>\n",
       "      <td>1</td>\n",
       "      <td>63</td>\n",
       "      <td>41</td>\n",
       "      <td>2020-11-03</td>\n",
       "      <td>False</td>\n",
       "    </tr>\n",
       "    <tr>\n",
       "      <th>2</th>\n",
       "      <td>10 JONES COMM_ CTR_</td>\n",
       "      <td>US SENATE</td>\n",
       "      <td>NaN</td>\n",
       "      <td>NaN</td>\n",
       "      <td>TOTAL</td>\n",
       "      <td>0</td>\n",
       "      <td>AUTAUGA</td>\n",
       "      <td>1001.0</td>\n",
       "      <td>AUTAUGA</td>\n",
       "      <td>1001.0</td>\n",
       "      <td>...</td>\n",
       "      <td>GEN</td>\n",
       "      <td>ALABAMA</td>\n",
       "      <td>False</td>\n",
       "      <td>True</td>\n",
       "      <td>AL</td>\n",
       "      <td>1</td>\n",
       "      <td>63</td>\n",
       "      <td>41</td>\n",
       "      <td>2020-11-03</td>\n",
       "      <td>False</td>\n",
       "    </tr>\n",
       "    <tr>\n",
       "      <th>3</th>\n",
       "      <td>10 JONES COMM_ CTR_</td>\n",
       "      <td>US SENATE</td>\n",
       "      <td>DEMOCRAT</td>\n",
       "      <td>DEMOCRAT</td>\n",
       "      <td>TOTAL</td>\n",
       "      <td>153</td>\n",
       "      <td>AUTAUGA</td>\n",
       "      <td>1001.0</td>\n",
       "      <td>AUTAUGA</td>\n",
       "      <td>1001.0</td>\n",
       "      <td>...</td>\n",
       "      <td>GEN</td>\n",
       "      <td>ALABAMA</td>\n",
       "      <td>False</td>\n",
       "      <td>False</td>\n",
       "      <td>AL</td>\n",
       "      <td>1</td>\n",
       "      <td>63</td>\n",
       "      <td>41</td>\n",
       "      <td>2020-11-03</td>\n",
       "      <td>False</td>\n",
       "    </tr>\n",
       "    <tr>\n",
       "      <th>4</th>\n",
       "      <td>10 JONES COMM_ CTR_</td>\n",
       "      <td>US SENATE</td>\n",
       "      <td>REPUBLICAN</td>\n",
       "      <td>REPUBLICAN</td>\n",
       "      <td>TOTAL</td>\n",
       "      <td>218</td>\n",
       "      <td>AUTAUGA</td>\n",
       "      <td>1001.0</td>\n",
       "      <td>AUTAUGA</td>\n",
       "      <td>1001.0</td>\n",
       "      <td>...</td>\n",
       "      <td>GEN</td>\n",
       "      <td>ALABAMA</td>\n",
       "      <td>False</td>\n",
       "      <td>False</td>\n",
       "      <td>AL</td>\n",
       "      <td>1</td>\n",
       "      <td>63</td>\n",
       "      <td>41</td>\n",
       "      <td>2020-11-03</td>\n",
       "      <td>False</td>\n",
       "    </tr>\n",
       "  </tbody>\n",
       "</table>\n",
       "<p>5 rows × 25 columns</p>\n",
       "</div>"
      ],
      "text/plain": [
       "              precinct     office party_detailed party_simplified   mode  \\\n",
       "0  10 JONES COMM_ CTR_  US SENATE            NaN              NaN  TOTAL   \n",
       "1  10 JONES COMM_ CTR_  US SENATE            NaN              NaN  TOTAL   \n",
       "2  10 JONES COMM_ CTR_  US SENATE            NaN              NaN  TOTAL   \n",
       "3  10 JONES COMM_ CTR_  US SENATE       DEMOCRAT         DEMOCRAT  TOTAL   \n",
       "4  10 JONES COMM_ CTR_  US SENATE     REPUBLICAN       REPUBLICAN  TOTAL   \n",
       "\n",
       "   votes county_name  county_fips jurisdiction_name  jurisdiction_fips  ...  \\\n",
       "0      0     AUTAUGA       1001.0           AUTAUGA             1001.0  ...   \n",
       "1      1     AUTAUGA       1001.0           AUTAUGA             1001.0  ...   \n",
       "2      0     AUTAUGA       1001.0           AUTAUGA             1001.0  ...   \n",
       "3    153     AUTAUGA       1001.0           AUTAUGA             1001.0  ...   \n",
       "4    218     AUTAUGA       1001.0           AUTAUGA             1001.0  ...   \n",
       "\n",
       "  stage    state  special writein  state_po state_fips state_cen  state_ic  \\\n",
       "0   GEN  ALABAMA    False   False        AL          1        63        41   \n",
       "1   GEN  ALABAMA    False   False        AL          1        63        41   \n",
       "2   GEN  ALABAMA    False    True        AL          1        63        41   \n",
       "3   GEN  ALABAMA    False   False        AL          1        63        41   \n",
       "4   GEN  ALABAMA    False   False        AL          1        63        41   \n",
       "\n",
       "         date readme_check  \n",
       "0  2020-11-03        False  \n",
       "1  2020-11-03        False  \n",
       "2  2020-11-03        False  \n",
       "3  2020-11-03        False  \n",
       "4  2020-11-03        False  \n",
       "\n",
       "[5 rows x 25 columns]"
      ]
     },
     "execution_count": 8,
     "metadata": {},
     "output_type": "execute_result"
    }
   ],
   "source": [
    "data.head()"
   ]
  },
  {
   "cell_type": "code",
   "execution_count": 23,
   "id": "fb65a605-4559-45f3-a11a-651d7080c0f4",
   "metadata": {},
   "outputs": [
    {
     "data": {
      "text/plain": [
       "year                 23\n",
       "state                51\n",
       "state_po             51\n",
       "state_fips           51\n",
       "state_cen            51\n",
       "state_ic             51\n",
       "office                1\n",
       "district             54\n",
       "stage                 2\n",
       "runoff                2\n",
       "special               2\n",
       "candidate         15561\n",
       "party               455\n",
       "writein               2\n",
       "mode                  1\n",
       "candidatevotes    24698\n",
       "totalvotes         9631\n",
       "unofficial            2\n",
       "version               1\n",
       "fusion_ticket         2\n",
       "dtype: int64"
      ]
     },
     "execution_count": 23,
     "metadata": {},
     "output_type": "execute_result"
    }
   ],
   "source": [
    "data.nunique()"
   ]
  },
  {
   "cell_type": "code",
   "execution_count": 9,
   "id": "bde16fdb-89da-4202-bc1e-3e5a5a8d68da",
   "metadata": {},
   "outputs": [
    {
     "data": {
      "text/plain": [
       "Index(['precinct', 'office', 'party_detailed', 'party_simplified', 'mode',\n",
       "       'votes', 'county_name', 'county_fips', 'jurisdiction_name',\n",
       "       'jurisdiction_fips', 'candidate', 'district', 'magnitude', 'dataverse',\n",
       "       'year', 'stage', 'state', 'special', 'writein', 'state_po',\n",
       "       'state_fips', 'state_cen', 'state_ic', 'date', 'readme_check'],\n",
       "      dtype='object')"
      ]
     },
     "execution_count": 9,
     "metadata": {},
     "output_type": "execute_result"
    }
   ],
   "source": [
    "data.columns"
   ]
  },
  {
   "cell_type": "code",
   "execution_count": null,
   "id": "b49d9901-c49b-4c06-ab01-a2d736d3f0b7",
   "metadata": {},
   "outputs": [],
   "source": []
  },
  {
   "cell_type": "code",
   "execution_count": 11,
   "id": "4e6fd98e-8d77-4c30-baec-646469754771",
   "metadata": {},
   "outputs": [
    {
     "data": {
      "text/plain": [
       "precinct                 0\n",
       "office                   0\n",
       "party_detailed       74176\n",
       "party_simplified     74176\n",
       "mode                     0\n",
       "votes                    0\n",
       "county_name           1749\n",
       "county_fips           1749\n",
       "jurisdiction_name        0\n",
       "jurisdiction_fips        9\n",
       "candidate                0\n",
       "district                 0\n",
       "magnitude                0\n",
       "dataverse                0\n",
       "year                     0\n",
       "stage                    0\n",
       "state                    0\n",
       "special                  0\n",
       "writein                  0\n",
       "state_po                 0\n",
       "state_fips               0\n",
       "state_cen                0\n",
       "state_ic                 0\n",
       "date                     0\n",
       "readme_check             0\n",
       "dtype: int64"
      ]
     },
     "execution_count": 11,
     "metadata": {},
     "output_type": "execute_result"
    }
   ],
   "source": [
    "data.isna().sum()"
   ]
  },
  {
   "cell_type": "code",
   "execution_count": 24,
   "id": "c6216ff8-70bf-4d94-a652-4a70173e4cfd",
   "metadata": {},
   "outputs": [
    {
     "data": {
      "text/plain": [
       "year               int64\n",
       "state             object\n",
       "state_po          object\n",
       "state_fips         int64\n",
       "state_cen          int64\n",
       "state_ic           int64\n",
       "office            object\n",
       "district           int64\n",
       "stage             object\n",
       "runoff            object\n",
       "special             bool\n",
       "candidate         object\n",
       "party             object\n",
       "writein             bool\n",
       "mode              object\n",
       "candidatevotes     int64\n",
       "totalvotes         int64\n",
       "unofficial          bool\n",
       "version            int64\n",
       "fusion_ticket       bool\n",
       "dtype: object"
      ]
     },
     "execution_count": 24,
     "metadata": {},
     "output_type": "execute_result"
    }
   ],
   "source": [
    "data.dtypes"
   ]
  },
  {
   "cell_type": "code",
   "execution_count": 28,
   "id": "5372500f-2a01-45e0-9490-db76ee98333f",
   "metadata": {},
   "outputs": [
    {
     "data": {
      "image/png": "[encoded data removed]",
      "text/plain": [
       "<Figure size 720x1080 with 1 Axes>"
      ]
     },
     "metadata": {
      "needs_background": "light"
     },
     "output_type": "display_data"
    }
   ],
   "source": [
    "data1 = data.drop(['year'],axis=1)\n",
    "freqgraph = data.select_dtypes(include=['float64','int64'])\n",
    "freqgraph.boxplot(figsize=(10,15))\n",
    "plt.xticks(rotation=90)\n",
    "plt.show()"
   ]
  },
  {
   "cell_type": "code",
   "execution_count": 31,
   "id": "ec0dfc77-63cd-4212-a969-35d958b720e2",
   "metadata": {},
   "outputs": [
    {
     "data": {
      "text/plain": [
       "{'whiskers': [<matplotlib.lines.Line2D at 0x26139e1b910>,\n",
       "  <matplotlib.lines.Line2D at 0x26139e1bbe0>],\n",
       " 'caps': [<matplotlib.lines.Line2D at 0x26139e1beb0>,\n",
       "  <matplotlib.lines.Line2D at 0x26139e241c0>],\n",
       " 'boxes': [<matplotlib.lines.Line2D at 0x26139e1b640>],\n",
       " 'medians': [<matplotlib.lines.Line2D at 0x26139e244c0>],\n",
       " 'fliers': [<matplotlib.lines.Line2D at 0x26139e24790>],\n",
       " 'means': []}"
      ]
     },
     "execution_count": 31,
     "metadata": {},
     "output_type": "execute_result"
    },
    {
     "data": {
      "image/png": "[encoded data removed]",
      "text/plain": [
       "<Figure size 432x288 with 1 Axes>"
      ]
     },
     "metadata": {
      "needs_background": "light"
     },
     "output_type": "display_data"
    }
   ],
   "source": [
    "plt.boxplot(data=data,x='candidatevotes')"
   ]
  },
  {
   "cell_type": "code",
   "execution_count": 32,
   "id": "31542d9a-bd9d-4b80-98b6-854bbfdd8fed",
   "metadata": {},
   "outputs": [
    {
     "data": {
      "text/plain": [
       "{'whiskers': [<matplotlib.lines.Line2D at 0x26139e61250>,\n",
       "  <matplotlib.lines.Line2D at 0x26139e61520>],\n",
       " 'caps': [<matplotlib.lines.Line2D at 0x26139e617f0>,\n",
       "  <matplotlib.lines.Line2D at 0x26139e61ac0>],\n",
       " 'boxes': [<matplotlib.lines.Line2D at 0x26139e59f40>],\n",
       " 'medians': [<matplotlib.lines.Line2D at 0x26139e61d90>],\n",
       " 'fliers': [<matplotlib.lines.Line2D at 0x26139e6f0a0>],\n",
       " 'means': []}"
      ]
     },
     "execution_count": 32,
     "metadata": {},
     "output_type": "execute_result"
    },
    {
     "data": {
      "image/png": "[encoded data removed]",
      "text/plain": [
       "<Figure size 432x288 with 1 Axes>"
      ]
     },
     "metadata": {
      "needs_background": "light"
     },
     "output_type": "display_data"
    }
   ],
   "source": [
    "plt.boxplot(data=data,x='totalvotes')"
   ]
  },
  {
   "cell_type": "code",
   "execution_count": null,
   "id": "2c4ce04b-ea36-421d-9726-52dd5ca74d50",
   "metadata": {},
   "outputs": [],
   "source": []
  }
 ],
 "metadata": {
  "kernelspec": {
   "display_name": "Python 3 (ipykernel)",
   "language": "python",
   "name": "python3"
  },
  "language_info": {
   "codemirror_mode": {
    "name": "ipython",
    "version": 3
   },
   "file_extension": ".py",
   "mimetype": "text/x-python",
   "name": "python",
   "nbconvert_exporter": "python",
   "pygments_lexer": "ipython3",
   "version": "3.9.12"
  }
 },
 "nbformat": 4,
 "nbformat_minor": 5
}
